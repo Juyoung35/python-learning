{
 "cells": [
  {
   "cell_type": "markdown",
   "id": "e8a03dc8-63db-46e9-b87c-bd43eda9af23",
   "metadata": {
    "tags": []
   },
   "source": [
    "# NumPy quickstart"
   ]
  },
  {
   "cell_type": "code",
   "execution_count": 1,
   "id": "4d73b7c7-57ac-498d-a1a8-ef2273c3d469",
   "metadata": {},
   "outputs": [],
   "source": [
    "import numpy as np\n",
    "rg = np.random.default_rng(1)\n",
    "def rprint(x): print(repr(x))"
   ]
  },
  {
   "cell_type": "markdown",
   "id": "b2c1bf53-13a2-4645-b87b-f00b895be4e6",
   "metadata": {
    "tags": []
   },
   "source": [
    "## The Basics"
   ]
  },
  {
   "cell_type": "code",
   "execution_count": 2,
   "id": "917d5d06-5071-4d05-abe5-6990880a1127",
   "metadata": {},
   "outputs": [
    {
     "data": {
      "text/plain": [
       "array([ 0,  1,  2,  3,  4,  5,  6,  7,  8,  9, 10, 11])"
      ]
     },
     "execution_count": 2,
     "metadata": {},
     "output_type": "execute_result"
    }
   ],
   "source": [
    "A = np.arange(12)\n",
    "A"
   ]
  },
  {
   "cell_type": "code",
   "execution_count": 3,
   "id": "675c1e9e-f61f-4410-9d2c-84a3dd422edc",
   "metadata": {},
   "outputs": [
    {
     "name": "stdout",
     "output_type": "stream",
     "text": [
      "<class 'numpy.ndarray'>\n",
      "array([[[[ 0,  1,  2,  3],\n",
      "         [ 4,  5,  6,  7],\n",
      "         [ 8,  9, 10, 11]],\n",
      "\n",
      "        [[12, 13, 14, 15],\n",
      "         [16, 17, 18, 19],\n",
      "         [20, 21, 22, 23]]]])\n",
      "[[[[ 0  1  2  3]\n",
      "   [ 4  5  6  7]\n",
      "   [ 8  9 10 11]]\n",
      "\n",
      "  [[12 13 14 15]\n",
      "   [16 17 18 19]\n",
      "   [20 21 22 23]]]]\n"
     ]
    }
   ],
   "source": [
    "B = np.arange(24).reshape(1, 2, 3, -1)\n",
    "print(type(B))\n",
    "rprint(B)\n",
    "print(B)"
   ]
  },
  {
   "cell_type": "code",
   "execution_count": 4,
   "id": "943de540-cb71-462e-974a-72f18fc9633e",
   "metadata": {},
   "outputs": [
    {
     "name": "stdout",
     "output_type": "stream",
     "text": [
      "4\n",
      "(1, 2, 3, 4)\n",
      "24\n",
      "int32\n",
      "4\n"
     ]
    }
   ],
   "source": [
    "print(B.ndim)\n",
    "print(B.shape)\n",
    "print(B.size)\n",
    "print(B.dtype)\n",
    "print(B.itemsize)"
   ]
  },
  {
   "cell_type": "code",
   "execution_count": 5,
   "id": "6863afa4-ec11-4e62-90d4-3bd92ac4f185",
   "metadata": {},
   "outputs": [
    {
     "name": "stdout",
     "output_type": "stream",
     "text": [
      "<memory at 0x0000025D194CFB40>\n",
      "<class 'memoryview'>\n"
     ]
    }
   ],
   "source": [
    "print(B.data)\n",
    "print(type(B.data))"
   ]
  },
  {
   "cell_type": "markdown",
   "id": "53291efa-16bc-4b5b-bba8-e0e6300f0222",
   "metadata": {},
   "source": [
    "### Array Creation"
   ]
  },
  {
   "cell_type": "code",
   "execution_count": 6,
   "id": "1a5df194-9c61-440b-9ea0-46b64af75de1",
   "metadata": {},
   "outputs": [
    {
     "name": "stdout",
     "output_type": "stream",
     "text": [
      "array([2, 3, 4])\n",
      "int32\n",
      "array([1.2, 3.4, 5.6])\n",
      "float64\n"
     ]
    }
   ],
   "source": [
    "A = np.array([2, 3, 4])\n",
    "rprint(A)\n",
    "print(A.dtype)\n",
    "B = np.array([1.2, 3.4, 5.6])\n",
    "rprint(B)\n",
    "print(B.dtype)"
   ]
  },
  {
   "cell_type": "code",
   "execution_count": 7,
   "id": "416d72d1-8dd5-4eee-bc4a-7e8892dcc9c5",
   "metadata": {},
   "outputs": [
    {
     "data": {
      "text/plain": [
       "array([[1.+0.j, 2.+0.j],\n",
       "       [3.+0.j, 4.+0.j]])"
      ]
     },
     "execution_count": 7,
     "metadata": {},
     "output_type": "execute_result"
    }
   ],
   "source": [
    "C = np.array([[1, 2],\n",
    "          [3, 4]], dtype=complex)\n",
    "C"
   ]
  },
  {
   "cell_type": "code",
   "execution_count": 8,
   "id": "e38cb0a1-7c1c-428c-bc37-b492c02a90b7",
   "metadata": {},
   "outputs": [
    {
     "data": {
      "text/plain": [
       "array([[0., 0., 0., 0.],\n",
       "       [0., 0., 0., 0.],\n",
       "       [0., 0., 0., 0.]])"
      ]
     },
     "execution_count": 8,
     "metadata": {},
     "output_type": "execute_result"
    }
   ],
   "source": [
    "np.zeros((3, 4))"
   ]
  },
  {
   "cell_type": "code",
   "execution_count": 9,
   "id": "8dcc77d7-36a3-49ed-809c-2e3426dcf0ea",
   "metadata": {},
   "outputs": [
    {
     "data": {
      "text/plain": [
       "array([[[1, 1, 1, 1],\n",
       "        [1, 1, 1, 1],\n",
       "        [1, 1, 1, 1]],\n",
       "\n",
       "       [[1, 1, 1, 1],\n",
       "        [1, 1, 1, 1],\n",
       "        [1, 1, 1, 1]]], dtype=int16)"
      ]
     },
     "execution_count": 9,
     "metadata": {},
     "output_type": "execute_result"
    }
   ],
   "source": [
    "np.ones((2, 3, 4), dtype=np.int16)"
   ]
  },
  {
   "cell_type": "code",
   "execution_count": 10,
   "id": "131ff3d0-5f12-414b-8c98-8c704d132750",
   "metadata": {},
   "outputs": [],
   "source": [
    "import numpy"
   ]
  },
  {
   "cell_type": "code",
   "execution_count": 11,
   "id": "668d742b-a48f-4f57-adb5-71c9768b949a",
   "metadata": {},
   "outputs": [
    {
     "data": {
      "text/plain": [
       "array([[ 858993459, 1072902963,  858993459],\n",
       "       [1074475827, 1717986918, 1075209830]])"
      ]
     },
     "execution_count": 11,
     "metadata": {},
     "output_type": "execute_result"
    }
   ],
   "source": [
    "numpy.empty((2, 3), dtype=np.int32)"
   ]
  },
  {
   "cell_type": "code",
   "execution_count": 12,
   "id": "be0e83d0-31c6-4fad-9dd3-12858636bf0f",
   "metadata": {},
   "outputs": [
    {
     "data": {
      "text/plain": [
       "array([[inf, inf],\n",
       "       [inf, inf]])"
      ]
     },
     "execution_count": 12,
     "metadata": {},
     "output_type": "execute_result"
    }
   ],
   "source": [
    "np.full((2, 2), np.inf)"
   ]
  },
  {
   "cell_type": "code",
   "execution_count": 13,
   "id": "15e4eded-52a8-4187-9880-2c2eb0251be1",
   "metadata": {},
   "outputs": [
    {
     "data": {
      "text/plain": [
       "array([3, 3, 3, 3, 3, 3, 3, 3, 3, 3, 3, 3])"
      ]
     },
     "execution_count": 13,
     "metadata": {},
     "output_type": "execute_result"
    }
   ],
   "source": [
    "D = np.arange(12, dtype=int)\n",
    "np.full_like(D,  3.14)"
   ]
  },
  {
   "cell_type": "code",
   "execution_count": 14,
   "id": "0346370a-20ef-4aa8-b3fb-db6a6eb58aeb",
   "metadata": {},
   "outputs": [
    {
     "data": {
      "text/plain": [
       "array([[[ 360,  720, 1080],\n",
       "        [ 360,  720, 1080]],\n",
       "\n",
       "       [[ 360,  720, 1080],\n",
       "        [ 360,  720, 1080]]])"
      ]
     },
     "execution_count": 14,
     "metadata": {},
     "output_type": "execute_result"
    }
   ],
   "source": [
    "E = np.zeros([2, 2, 3], dtype=int)\n",
    "np.full_like(E, [360, 720, 1080])"
   ]
  },
  {
   "cell_type": "code",
   "execution_count": 15,
   "id": "ffed1ead-e23b-4dc4-a0f9-add08059d1b1",
   "metadata": {},
   "outputs": [
    {
     "data": {
      "text/plain": [
       "array([ 360,  720, 1080, 1440, 1800, 2160, 2520, 2880, 3240, 3600, 3960])"
      ]
     },
     "execution_count": 15,
     "metadata": {},
     "output_type": "execute_result"
    }
   ],
   "source": [
    "np.arange(360, 4080, 360)"
   ]
  },
  {
   "cell_type": "code",
   "execution_count": 16,
   "id": "21493f60-2a95-4a2a-a129-5e0d38183a95",
   "metadata": {},
   "outputs": [
    {
     "data": {
      "text/plain": [
       "array([0.1, 0.4, 0.7])"
      ]
     },
     "execution_count": 16,
     "metadata": {},
     "output_type": "execute_result"
    }
   ],
   "source": [
    "np.arange(0.1, 1, 0.3)"
   ]
  },
  {
   "cell_type": "code",
   "execution_count": 17,
   "id": "bce9e028-20f6-49c6-8f14-be9e979d22cb",
   "metadata": {},
   "outputs": [
    {
     "data": {
      "text/plain": [
       "array([0.  , 0.25, 0.5 , 0.75, 1.  , 1.25, 1.5 , 1.75, 2.  ])"
      ]
     },
     "execution_count": 17,
     "metadata": {},
     "output_type": "execute_result"
    }
   ],
   "source": [
    "np.linspace(0, 2, 9)"
   ]
  },
  {
   "cell_type": "code",
   "execution_count": 18,
   "id": "602735c9-b320-4dca-921b-223321224778",
   "metadata": {},
   "outputs": [
    {
     "data": {
      "text/plain": [
       "array([ 0.00000000e+00,  6.34239197e-02,  1.26592454e-01,  1.89251244e-01,\n",
       "        2.51147987e-01,  3.12033446e-01,  3.71662456e-01,  4.29794912e-01,\n",
       "        4.86196736e-01,  5.40640817e-01,  5.92907929e-01,  6.42787610e-01,\n",
       "        6.90079011e-01,  7.34591709e-01,  7.76146464e-01,  8.14575952e-01,\n",
       "        8.49725430e-01,  8.81453363e-01,  9.09631995e-01,  9.34147860e-01,\n",
       "        9.54902241e-01,  9.71811568e-01,  9.84807753e-01,  9.93838464e-01,\n",
       "        9.98867339e-01,  9.99874128e-01,  9.96854776e-01,  9.89821442e-01,\n",
       "        9.78802446e-01,  9.63842159e-01,  9.45000819e-01,  9.22354294e-01,\n",
       "        8.95993774e-01,  8.66025404e-01,  8.32569855e-01,  7.95761841e-01,\n",
       "        7.55749574e-01,  7.12694171e-01,  6.66769001e-01,  6.18158986e-01,\n",
       "        5.67059864e-01,  5.13677392e-01,  4.58226522e-01,  4.00930535e-01,\n",
       "        3.42020143e-01,  2.81732557e-01,  2.20310533e-01,  1.58001396e-01,\n",
       "        9.50560433e-02,  3.17279335e-02, -3.17279335e-02, -9.50560433e-02,\n",
       "       -1.58001396e-01, -2.20310533e-01, -2.81732557e-01, -3.42020143e-01,\n",
       "       -4.00930535e-01, -4.58226522e-01, -5.13677392e-01, -5.67059864e-01,\n",
       "       -6.18158986e-01, -6.66769001e-01, -7.12694171e-01, -7.55749574e-01,\n",
       "       -7.95761841e-01, -8.32569855e-01, -8.66025404e-01, -8.95993774e-01,\n",
       "       -9.22354294e-01, -9.45000819e-01, -9.63842159e-01, -9.78802446e-01,\n",
       "       -9.89821442e-01, -9.96854776e-01, -9.99874128e-01, -9.98867339e-01,\n",
       "       -9.93838464e-01, -9.84807753e-01, -9.71811568e-01, -9.54902241e-01,\n",
       "       -9.34147860e-01, -9.09631995e-01, -8.81453363e-01, -8.49725430e-01,\n",
       "       -8.14575952e-01, -7.76146464e-01, -7.34591709e-01, -6.90079011e-01,\n",
       "       -6.42787610e-01, -5.92907929e-01, -5.40640817e-01, -4.86196736e-01,\n",
       "       -4.29794912e-01, -3.71662456e-01, -3.12033446e-01, -2.51147987e-01,\n",
       "       -1.89251244e-01, -1.26592454e-01, -6.34239197e-02, -2.44929360e-16])"
      ]
     },
     "execution_count": 18,
     "metadata": {},
     "output_type": "execute_result"
    }
   ],
   "source": [
    "F = np.linspace(0, 2 * np.pi, 100)\n",
    "np.sin(F)"
   ]
  },
  {
   "cell_type": "markdown",
   "id": "2f46bda5-b0e1-4aee-b202-0279fde93363",
   "metadata": {},
   "source": [
    "### Printing Arrays"
   ]
  },
  {
   "cell_type": "code",
   "execution_count": 19,
   "id": "38268b7f-e9ab-436a-9f50-407207e795ec",
   "metadata": {},
   "outputs": [
    {
     "name": "stdout",
     "output_type": "stream",
     "text": [
      "[0 1 2 3 4 5 6 7 8 9]\n"
     ]
    }
   ],
   "source": [
    "print(np.arange(10))"
   ]
  },
  {
   "cell_type": "code",
   "execution_count": 20,
   "id": "9e61915e-82db-4227-95be-61a55006e891",
   "metadata": {},
   "outputs": [
    {
     "name": "stdout",
     "output_type": "stream",
     "text": [
      "[[ 0  3  6  9]\n",
      " [ 1  4  7 10]\n",
      " [ 2  5  8 11]]\n"
     ]
    }
   ],
   "source": [
    "print(np.arange(12).reshape(3, 4, order='F'))"
   ]
  },
  {
   "cell_type": "code",
   "execution_count": 21,
   "id": "2b083d6f-897f-40c6-a587-259bed97f277",
   "metadata": {},
   "outputs": [
    {
     "name": "stdout",
     "output_type": "stream",
     "text": [
      "[   0    1    2 ... 9997 9998 9999]\n"
     ]
    }
   ],
   "source": [
    "print(np.arange(10_000))"
   ]
  },
  {
   "cell_type": "code",
   "execution_count": 22,
   "id": "006637c3-1558-4ebb-9bd4-e14a7a5da9f4",
   "metadata": {},
   "outputs": [
    {
     "name": "stdout",
     "output_type": "stream",
     "text": [
      "[[   0    1    2 ...   97   98   99]\n",
      " [ 100  101  102 ...  197  198  199]\n",
      " [ 200  201  202 ...  297  298  299]\n",
      " ...\n",
      " [9700 9701 9702 ... 9797 9798 9799]\n",
      " [9800 9801 9802 ... 9897 9898 9899]\n",
      " [9900 9901 9902 ... 9997 9998 9999]]\n"
     ]
    }
   ],
   "source": [
    "print(np.arange(10_000).reshape(100, 100))"
   ]
  },
  {
   "cell_type": "code",
   "execution_count": 23,
   "id": "fff1d1fa-2caa-4b3a-a9d4-b4f155d37f49",
   "metadata": {},
   "outputs": [
    {
     "name": "stdout",
     "output_type": "stream",
     "text": [
      "[[   0    1 ...   98   99]\n",
      " [ 100  101 ...  198  199]\n",
      " ...\n",
      " [9800 9801 ... 9898 9899]\n",
      " [9900 9901 ... 9998 9999]]\n"
     ]
    }
   ],
   "source": [
    "np.set_printoptions(edgeitems=2)\n",
    "print(np.arange(10_000).reshape(100, 100))"
   ]
  },
  {
   "cell_type": "code",
   "execution_count": 24,
   "id": "85fc141d-41c3-49a3-88d6-877d41cc8980",
   "metadata": {},
   "outputs": [
    {
     "name": "stdout",
     "output_type": "stream",
     "text": [
      "[[   0    1 ...   98   99]\n",
      " [ 100  101 ...  198  199]\n",
      " ...\n",
      " [9800 9801 ... 9898 9899]\n",
      " [9900 9901 ... 9998 9999]]\n"
     ]
    }
   ],
   "source": [
    "np.set_printoptions()\n",
    "print(np.arange(10_000).reshape(100, 100))"
   ]
  },
  {
   "cell_type": "markdown",
   "id": "b959b5f1-9187-4d6c-9900-f2870b50a74c",
   "metadata": {},
   "source": [
    "### Basic Operations"
   ]
  },
  {
   "cell_type": "code",
   "execution_count": 25,
   "id": "52aa9c11-dd47-470d-a23d-4bfc30690069",
   "metadata": {},
   "outputs": [
    {
     "data": {
      "text/plain": [
       "array([10, 20, 30, 40, 50])"
      ]
     },
     "execution_count": 25,
     "metadata": {},
     "output_type": "execute_result"
    }
   ],
   "source": [
    "A = np.linspace(10, 50, 5, dtype=int)\n",
    "A"
   ]
  },
  {
   "cell_type": "code",
   "execution_count": 26,
   "id": "ee2ca760-f195-41ac-b825-37fc4489e8fd",
   "metadata": {},
   "outputs": [
    {
     "data": {
      "text/plain": [
       "array([0, 1, 2, 3, 4])"
      ]
     },
     "execution_count": 26,
     "metadata": {},
     "output_type": "execute_result"
    }
   ],
   "source": [
    "B = np.arange(5)\n",
    "B"
   ]
  },
  {
   "cell_type": "code",
   "execution_count": 27,
   "id": "99f6fdf2-8d9c-4176-89e6-99608e59aecb",
   "metadata": {},
   "outputs": [
    {
     "data": {
      "text/plain": [
       "array([10, 19, 28, 37, 46])"
      ]
     },
     "execution_count": 27,
     "metadata": {},
     "output_type": "execute_result"
    }
   ],
   "source": [
    "A - B"
   ]
  },
  {
   "cell_type": "code",
   "execution_count": 28,
   "id": "9c351380-3737-4ae4-8995-409d5e363f7e",
   "metadata": {},
   "outputs": [
    {
     "data": {
      "text/plain": [
       "array([ 0,  1,  4,  9, 16], dtype=int32)"
      ]
     },
     "execution_count": 28,
     "metadata": {},
     "output_type": "execute_result"
    }
   ],
   "source": [
    "B ** 2"
   ]
  },
  {
   "cell_type": "code",
   "execution_count": 29,
   "id": "ec7508d1-6788-473b-bc68-d9aaa5a938f3",
   "metadata": {},
   "outputs": [
    {
     "data": {
      "text/plain": [
       "array([-5.44021111,  9.12945251, -9.88031624,  7.4511316 , -2.62374854])"
      ]
     },
     "execution_count": 29,
     "metadata": {},
     "output_type": "execute_result"
    }
   ],
   "source": [
    "10 * np.sin(A)"
   ]
  },
  {
   "cell_type": "code",
   "execution_count": 30,
   "id": "86ef8b32-c13b-4173-969a-ed794181bf78",
   "metadata": {},
   "outputs": [
    {
     "data": {
      "text/plain": [
       "array([ True,  True,  True, False, False])"
      ]
     },
     "execution_count": 30,
     "metadata": {},
     "output_type": "execute_result"
    }
   ],
   "source": [
    "A < 35"
   ]
  },
  {
   "cell_type": "code",
   "execution_count": 31,
   "id": "a7b12fe2-0b6c-43b4-ac35-c9ba2e99bc6a",
   "metadata": {},
   "outputs": [],
   "source": [
    "A = np.array([[1, 1],\n",
    "              [0, 1]])\n",
    "B = np.array([[2, 0],\n",
    "              [3, 4]])"
   ]
  },
  {
   "cell_type": "code",
   "execution_count": 32,
   "id": "355197cb-29b0-474e-a3c2-29c8e2da3d87",
   "metadata": {},
   "outputs": [
    {
     "data": {
      "text/plain": [
       "array([[2, 0],\n",
       "       [0, 4]])"
      ]
     },
     "execution_count": 32,
     "metadata": {},
     "output_type": "execute_result"
    }
   ],
   "source": [
    "A * B"
   ]
  },
  {
   "cell_type": "code",
   "execution_count": 33,
   "id": "bd85d1f5-6e06-4011-a9b9-5203e5b84850",
   "metadata": {},
   "outputs": [
    {
     "name": "stdout",
     "output_type": "stream",
     "text": [
      "array([[5, 4],\n",
      "       [3, 4]])\n",
      "array([[5, 4],\n",
      "       [3, 4]])\n",
      "array([[5, 4],\n",
      "       [3, 4]])\n"
     ]
    }
   ],
   "source": [
    "C = A @ B\n",
    "rprint(C)\n",
    "rprint(np.matmul(A, B)) # The matmul function implements the semantics of the @ operator\n",
    "rprint(A.dot(B)) # If both a and b are 2-D arrays, it is matrix multiplication, but using matmul or a @ b is preferred."
   ]
  },
  {
   "cell_type": "code",
   "execution_count": 34,
   "id": "4d91d1d7-78fe-487f-8b2f-446a68862a50",
   "metadata": {},
   "outputs": [
    {
     "name": "stdout",
     "output_type": "stream",
     "text": [
      "10\n",
      "10\n"
     ]
    }
   ],
   "source": [
    "C = np.array([1, 3])\n",
    "D = np.array([4, 2])\n",
    "print(C.dot(D)) # If both a and b are 1-D arrays, it is inner product of vectors (without complex conjugation).\n",
    "print(np.vdot(C, D))"
   ]
  },
  {
   "cell_type": "code",
   "execution_count": 35,
   "id": "316c8265-e690-4057-95c7-44bac738f579",
   "metadata": {},
   "outputs": [
    {
     "data": {
      "text/plain": [
       "array([[[0, 1, 2, 3],\n",
       "        [4, 0, 1, 2],\n",
       "        [3, 4, 0, 1]],\n",
       "\n",
       "       [[2, 3, 4, 0],\n",
       "        [1, 2, 3, 4],\n",
       "        [0, 1, 2, 3]]])"
      ]
     },
     "execution_count": 35,
     "metadata": {},
     "output_type": "execute_result"
    }
   ],
   "source": [
    "E = np.arange(24).reshape(2, 3, 4)\n",
    "E %= 5\n",
    "E"
   ]
  },
  {
   "cell_type": "code",
   "execution_count": 36,
   "id": "fad14ec9-2036-4d60-85dc-732ff0bdb74b",
   "metadata": {},
   "outputs": [
    {
     "data": {
      "text/plain": [
       "array([0, 1, 2, 3])"
      ]
     },
     "execution_count": 36,
     "metadata": {},
     "output_type": "execute_result"
    }
   ],
   "source": [
    "F = np.arange(4)\n",
    "F"
   ]
  },
  {
   "cell_type": "code",
   "execution_count": 37,
   "id": "4575c06f-1c51-4b9a-a21e-d76fd3876386",
   "metadata": {},
   "outputs": [
    {
     "data": {
      "text/plain": [
       "array([[14,  8,  7],\n",
       "       [11, 20, 14]])"
      ]
     },
     "execution_count": 37,
     "metadata": {},
     "output_type": "execute_result"
    }
   ],
   "source": [
    "E.dot(F) # If a is an N-D array and b is a 1-D array, it is a sum product over the last axis of a and b."
   ]
  },
  {
   "cell_type": "code",
   "execution_count": 38,
   "id": "f76eb11d-8b8f-4656-b7e8-5bf342a5ac98",
   "metadata": {},
   "outputs": [
    {
     "name": "stdout",
     "output_type": "stream",
     "text": [
      "shapes (4,) and (2,3,4) not aligned: 4 (dim 0) != 3 (dim 1)\n"
     ]
    }
   ],
   "source": [
    "try: rprint(F.dot(E))\n",
    "except ValueError as e: print(e)"
   ]
  },
  {
   "cell_type": "code",
   "execution_count": 39,
   "id": "fe3795b1-9a1e-46b0-a75e-62c98ec53720",
   "metadata": {},
   "outputs": [
    {
     "data": {
      "text/plain": [
       "array([[[0, 1],\n",
       "        [2, 3]],\n",
       "\n",
       "       [[4, 0],\n",
       "        [1, 2]]])"
      ]
     },
     "execution_count": 39,
     "metadata": {},
     "output_type": "execute_result"
    }
   ],
   "source": [
    "G = np.arange(8).reshape(2, 2, 2)\n",
    "G %= 5\n",
    "G"
   ]
  },
  {
   "cell_type": "code",
   "execution_count": 40,
   "id": "e3063ff3-3039-4626-ab17-cfff69749d5b",
   "metadata": {},
   "outputs": [
    {
     "data": {
      "text/plain": [
       "array([[[[ 2,  3],\n",
       "         [ 1,  2]],\n",
       "\n",
       "        [[ 6, 11],\n",
       "         [11,  6]]],\n",
       "\n",
       "\n",
       "       [[[ 0,  4],\n",
       "         [16,  0]],\n",
       "\n",
       "        [[ 4,  7],\n",
       "         [ 6,  4]]]])"
      ]
     },
     "execution_count": 40,
     "metadata": {},
     "output_type": "execute_result"
    }
   ],
   "source": [
    "H = G.dot(G) # If a is an N-D array and b is an M-D array (where M>=2), it is a sum product over the last axis of a and the second-to-last axis of b\n",
    "H"
   ]
  },
  {
   "cell_type": "code",
   "execution_count": 41,
   "id": "9f767743-6687-48a8-a83d-bd6760c548fb",
   "metadata": {},
   "outputs": [
    {
     "data": {
      "text/plain": [
       "True"
      ]
     },
     "execution_count": 41,
     "metadata": {},
     "output_type": "execute_result"
    }
   ],
   "source": [
    "# dot(a, b)[i,j,k,m] = sum(a[i,j,:] * b[k,:,m])\n",
    "all = True\n",
    "for i in range(2):\n",
    "    for j in range(2):\n",
    "        for k in range(2):\n",
    "            for m in range(2):\n",
    "                all &= H[i, j, k, m] == sum(G[i, j, :] * G[k, :, m])\n",
    "all"
   ]
  },
  {
   "cell_type": "code",
   "execution_count": 42,
   "id": "6ba8c056-526b-4833-b149-a0658bef5ce4",
   "metadata": {},
   "outputs": [],
   "source": [
    "# TODO: np.tensordot"
   ]
  },
  {
   "cell_type": "code",
   "execution_count": 43,
   "id": "f41fd875-d8cf-47a0-b8e5-8f23b96d9171",
   "metadata": {},
   "outputs": [
    {
     "data": {
      "text/plain": [
       "array([[3, 3, 3],\n",
       "       [3, 3, 3]])"
      ]
     },
     "execution_count": 43,
     "metadata": {},
     "output_type": "execute_result"
    }
   ],
   "source": [
    "A = np.ones((2, 3), dtype=int)\n",
    "A *= 3\n",
    "A"
   ]
  },
  {
   "cell_type": "code",
   "execution_count": 44,
   "id": "76bcab4b-fc00-4c62-aadd-f51c260301f7",
   "metadata": {},
   "outputs": [
    {
     "data": {
      "text/plain": [
       "array([[0.51182162, 0.9504637 , 0.14415961],\n",
       "       [0.94864945, 0.31183145, 0.42332645]])"
      ]
     },
     "execution_count": 44,
     "metadata": {},
     "output_type": "execute_result"
    }
   ],
   "source": [
    "B = rg.random((2, 3))\n",
    "B"
   ]
  },
  {
   "cell_type": "code",
   "execution_count": 45,
   "id": "447761ea-774b-4216-9f2a-e941afeea648",
   "metadata": {},
   "outputs": [
    {
     "data": {
      "text/plain": [
       "array([[3.51182162, 3.9504637 , 3.14415961],\n",
       "       [3.94864945, 3.31183145, 3.42332645]])"
      ]
     },
     "execution_count": 45,
     "metadata": {},
     "output_type": "execute_result"
    }
   ],
   "source": [
    "B += A\n",
    "B"
   ]
  },
  {
   "cell_type": "code",
   "execution_count": 46,
   "id": "90eee239-27ed-44ff-bc1f-f6c03fc77397",
   "metadata": {},
   "outputs": [
    {
     "name": "stdout",
     "output_type": "stream",
     "text": [
      "Cannot cast ufunc 'add' output from dtype('float64') to dtype('int32') with casting rule 'same_kind'\n"
     ]
    }
   ],
   "source": [
    "try:\n",
    "    A += B\n",
    "    rprint(A)\n",
    "except np.core._exceptions.UFuncTypeError as e: print(e)"
   ]
  },
  {
   "cell_type": "code",
   "execution_count": 47,
   "id": "1b3b12c4-d072-4280-9680-8f6e80074b9c",
   "metadata": {},
   "outputs": [
    {
     "data": {
      "text/plain": [
       "'float64'"
      ]
     },
     "execution_count": 47,
     "metadata": {},
     "output_type": "execute_result"
    }
   ],
   "source": [
    "A = np.ones(3, dtype=np.int32)\n",
    "B = np.linspace(0, np.pi, 3)\n",
    "B.dtype.name"
   ]
  },
  {
   "cell_type": "code",
   "execution_count": 48,
   "id": "e9c55ba1-f588-4fe8-b683-53f16d4ce3a8",
   "metadata": {},
   "outputs": [
    {
     "data": {
      "text/plain": [
       "array([1.        , 2.57079633, 4.14159265])"
      ]
     },
     "execution_count": 48,
     "metadata": {},
     "output_type": "execute_result"
    }
   ],
   "source": [
    "C = A + B\n",
    "C"
   ]
  },
  {
   "cell_type": "code",
   "execution_count": 49,
   "id": "2e96cfcb-2438-4371-9010-7afbba411593",
   "metadata": {},
   "outputs": [
    {
     "data": {
      "text/plain": [
       "array([ 0.54030231+0.84147098j, -0.84147098+0.54030231j,\n",
       "       -0.54030231-0.84147098j])"
      ]
     },
     "execution_count": 49,
     "metadata": {},
     "output_type": "execute_result"
    }
   ],
   "source": [
    "D = np.exp(C * 1j)\n",
    "D"
   ]
  },
  {
   "cell_type": "code",
   "execution_count": 50,
   "id": "dd1ca76b-8e5c-48c7-ba7e-026e6322747e",
   "metadata": {},
   "outputs": [
    {
     "data": {
      "text/plain": [
       "dtype('complex128')"
      ]
     },
     "execution_count": 50,
     "metadata": {},
     "output_type": "execute_result"
    }
   ],
   "source": [
    "D.dtype"
   ]
  },
  {
   "cell_type": "code",
   "execution_count": 51,
   "id": "02177256-1c56-419a-ad44-fc0a9de0d8fd",
   "metadata": {},
   "outputs": [
    {
     "data": {
      "text/plain": [
       "array([[0.82770259, 0.40919914, 0.54959369],\n",
       "       [0.02755911, 0.75351311, 0.53814331]])"
      ]
     },
     "execution_count": 51,
     "metadata": {},
     "output_type": "execute_result"
    }
   ],
   "source": [
    "A = rg.random((2, 3))\n",
    "A"
   ]
  },
  {
   "cell_type": "code",
   "execution_count": 52,
   "id": "e713b375-085f-4ca7-9e77-f38c959b483f",
   "metadata": {},
   "outputs": [
    {
     "data": {
      "text/plain": [
       "3.1057109529998157"
      ]
     },
     "execution_count": 52,
     "metadata": {},
     "output_type": "execute_result"
    }
   ],
   "source": [
    "A.sum()"
   ]
  },
  {
   "cell_type": "code",
   "execution_count": 53,
   "id": "63ba813d-17d9-4bd1-8549-e8be7e8e2a80",
   "metadata": {},
   "outputs": [
    {
     "data": {
      "text/plain": [
       "0.027559113243068367"
      ]
     },
     "execution_count": 53,
     "metadata": {},
     "output_type": "execute_result"
    }
   ],
   "source": [
    "A.min()"
   ]
  },
  {
   "cell_type": "code",
   "execution_count": 54,
   "id": "5efb9962-9a1e-4038-9941-c346906228fe",
   "metadata": {},
   "outputs": [
    {
     "data": {
      "text/plain": [
       "0.8277025938204418"
      ]
     },
     "execution_count": 54,
     "metadata": {},
     "output_type": "execute_result"
    }
   ],
   "source": [
    "A.max()"
   ]
  },
  {
   "cell_type": "code",
   "execution_count": 55,
   "id": "d8049bc2-8a82-46d6-9ad9-25d254fc5c30",
   "metadata": {},
   "outputs": [
    {
     "data": {
      "text/plain": [
       "array([[[ 0,  1,  2,  3],\n",
       "        [ 4,  5,  6,  7],\n",
       "        [ 8,  9, 10, 11]],\n",
       "\n",
       "       [[12, 13, 14, 15],\n",
       "        [16, 17, 18, 19],\n",
       "        [20, 21, 22, 23]]])"
      ]
     },
     "execution_count": 55,
     "metadata": {},
     "output_type": "execute_result"
    }
   ],
   "source": [
    "B = np.arange(24).reshape(2, 3, 4)\n",
    "B"
   ]
  },
  {
   "cell_type": "code",
   "execution_count": 56,
   "id": "fd536f61-93a1-4125-b0c9-145ef92028a0",
   "metadata": {},
   "outputs": [
    {
     "data": {
      "text/plain": [
       "array([[12, 14, 16, 18],\n",
       "       [20, 22, 24, 26],\n",
       "       [28, 30, 32, 34]])"
      ]
     },
     "execution_count": 56,
     "metadata": {},
     "output_type": "execute_result"
    }
   ],
   "source": [
    "B.sum(axis=0)"
   ]
  },
  {
   "cell_type": "code",
   "execution_count": 57,
   "id": "43c64101-8622-4f51-856a-01e61c539d98",
   "metadata": {},
   "outputs": [
    {
     "data": {
      "text/plain": [
       "array([[ 0,  1,  2,  3],\n",
       "       [12, 13, 14, 15]])"
      ]
     },
     "execution_count": 57,
     "metadata": {},
     "output_type": "execute_result"
    }
   ],
   "source": [
    "B.min(axis=1)"
   ]
  },
  {
   "cell_type": "code",
   "execution_count": 58,
   "id": "da382779-fc69-488c-b523-67473a317e13",
   "metadata": {},
   "outputs": [
    {
     "name": "stdout",
     "output_type": "stream",
     "text": [
      "array([[[ 0,  1,  3,  6],\n",
      "        [ 4,  9, 15, 22],\n",
      "        [ 8, 17, 27, 38]],\n",
      "\n",
      "       [[12, 25, 39, 54],\n",
      "        [16, 33, 51, 70],\n",
      "        [20, 41, 63, 86]]], dtype=int32)\n",
      "array([[[ 0,  1,  3,  6],\n",
      "        [ 4,  9, 15, 22],\n",
      "        [ 8, 17, 27, 38]],\n",
      "\n",
      "       [[12, 25, 39, 54],\n",
      "        [16, 33, 51, 70],\n",
      "        [20, 41, 63, 86]]], dtype=int32)\n"
     ]
    }
   ],
   "source": [
    "rprint(B.cumsum(axis=2))\n",
    "rprint(B.cumsum(axis=-1))"
   ]
  },
  {
   "cell_type": "markdown",
   "id": "2364ccfc-b39b-4b22-85c6-2df1d6ae668f",
   "metadata": {},
   "source": [
    "### Universal Functions"
   ]
  },
  {
   "cell_type": "code",
   "execution_count": 59,
   "id": "0883befc-dc34-4a6c-b663-987020282776",
   "metadata": {},
   "outputs": [
    {
     "data": {
      "text/plain": [
       "array([0, 1, 2])"
      ]
     },
     "execution_count": 59,
     "metadata": {},
     "output_type": "execute_result"
    }
   ],
   "source": [
    "B = np.arange(3)\n",
    "B"
   ]
  },
  {
   "cell_type": "code",
   "execution_count": 60,
   "id": "f41cf552-d712-4e74-8fad-b4547c0a3b6f",
   "metadata": {},
   "outputs": [
    {
     "data": {
      "text/plain": [
       "array([1.        , 2.71828183, 7.3890561 ])"
      ]
     },
     "execution_count": 60,
     "metadata": {},
     "output_type": "execute_result"
    }
   ],
   "source": [
    "np.exp(B)"
   ]
  },
  {
   "cell_type": "code",
   "execution_count": 61,
   "id": "e8e7c6a2-2043-4410-b0a8-68e949d73624",
   "metadata": {},
   "outputs": [
    {
     "data": {
      "text/plain": [
       "array([0.        , 1.        , 1.41421356])"
      ]
     },
     "execution_count": 61,
     "metadata": {},
     "output_type": "execute_result"
    }
   ],
   "source": [
    "np.sqrt(B)"
   ]
  },
  {
   "cell_type": "markdown",
   "id": "5f631c6b-c248-4014-b827-0453ea7490c1",
   "metadata": {
    "tags": []
   },
   "source": [
    "#### See also  \n",
    "\n",
    "```\n",
    "all, any, apply_along_axis, argmax, argmin, argsort, average, bincount, ceil, clip, conj, corrcoef, cov, cross, cumprod, cumsum, diff, dot, floor, inner, invert, lexsort, max, maximum, mean, median, min, minimum, nonzero, outer, prod, re, round, sort, std, sum, trace, transpose, var, vdot, vectorize, where\n",
    "```\n"
   ]
  },
  {
   "cell_type": "markdown",
   "id": "e9702fc6-2e4a-4811-94c7-e8017913783e",
   "metadata": {},
   "source": [
    "### Indexing, Slicing and Iterating"
   ]
  },
  {
   "cell_type": "code",
   "execution_count": 62,
   "id": "d3e6d06f-5455-4e4d-bf41-96dd8d72065f",
   "metadata": {},
   "outputs": [
    {
     "data": {
      "text/plain": [
       "array([  0,   1,   8,  27,  64, 125, 216, 343, 512, 729], dtype=int32)"
      ]
     },
     "execution_count": 62,
     "metadata": {},
     "output_type": "execute_result"
    }
   ],
   "source": [
    "A = np.arange(10) ** 3\n",
    "A"
   ]
  },
  {
   "cell_type": "code",
   "execution_count": 63,
   "id": "dd830a62-62fb-4c03-b9fe-637d7b50d22e",
   "metadata": {},
   "outputs": [
    {
     "data": {
      "text/plain": [
       "8"
      ]
     },
     "execution_count": 63,
     "metadata": {},
     "output_type": "execute_result"
    }
   ],
   "source": [
    "A[2]"
   ]
  },
  {
   "cell_type": "code",
   "execution_count": 64,
   "id": "caafa4d6-3a85-4e8e-b789-39a14c1d17f1",
   "metadata": {},
   "outputs": [
    {
     "data": {
      "text/plain": [
       "array([ 8, 27, 64], dtype=int32)"
      ]
     },
     "execution_count": 64,
     "metadata": {},
     "output_type": "execute_result"
    }
   ],
   "source": [
    "A[2:5]"
   ]
  },
  {
   "cell_type": "code",
   "execution_count": 65,
   "id": "db9fe46d-5af8-4631-b96a-a61389f6fe29",
   "metadata": {},
   "outputs": [
    {
     "data": {
      "text/plain": [
       "array([1000,    1, 1000,   27, 1000,  125,  216,  343,  512,  729],\n",
       "      dtype=int32)"
      ]
     },
     "execution_count": 65,
     "metadata": {},
     "output_type": "execute_result"
    }
   ],
   "source": [
    "A[:6:2] = 1000\n",
    "A"
   ]
  },
  {
   "cell_type": "code",
   "execution_count": 66,
   "id": "b2b2173c-0dff-40c2-9425-1ce277f2b192",
   "metadata": {},
   "outputs": [
    {
     "data": {
      "text/plain": [
       "array([ 729,  512,  343,  216,  125, 1000,   27, 1000,    1, 1000],\n",
       "      dtype=int32)"
      ]
     },
     "execution_count": 66,
     "metadata": {},
     "output_type": "execute_result"
    }
   ],
   "source": [
    "A[::-1]"
   ]
  },
  {
   "cell_type": "code",
   "execution_count": 67,
   "id": "1a983e2c-41c4-4c79-ba03-259b6b696453",
   "metadata": {},
   "outputs": [
    {
     "name": "stdout",
     "output_type": "stream",
     "text": [
      "9.999999999999998\n",
      "1.0\n",
      "9.999999999999998\n",
      "3.0\n",
      "9.999999999999998\n",
      "5.0\n",
      "5.999999999999999\n",
      "6.999999999999999\n",
      "7.999999999999999\n",
      "8.999999999999998\n"
     ]
    }
   ],
   "source": [
    "for x in A: print(x ** (1 / 3))"
   ]
  },
  {
   "cell_type": "code",
   "execution_count": 172,
   "id": "ad8f056d-0b20-43e6-a20c-db4d74c09ce7",
   "metadata": {},
   "outputs": [
    {
     "data": {
      "text/plain": [
       "array([[[  0,   1,   2,   3,   4],\n",
       "        [ 10,  11,  12,  13,  14],\n",
       "        [ 20,  21,  22,  23,  24],\n",
       "        [ 30,  31,  32,  33,  34]],\n",
       "\n",
       "       [[100, 101, 102, 103, 104],\n",
       "        [110, 111, 112, 113, 114],\n",
       "        [120, 121, 122, 123, 124],\n",
       "        [130, 131, 132, 133, 134]],\n",
       "\n",
       "       [[200, 201, 202, 203, 204],\n",
       "        [210, 211, 212, 213, 214],\n",
       "        [220, 221, 222, 223, 224],\n",
       "        [230, 231, 232, 233, 234]]])"
      ]
     },
     "execution_count": 172,
     "metadata": {},
     "output_type": "execute_result"
    }
   ],
   "source": [
    "def f(x, y, z):\n",
    "    return 100*x + 10*y + z\n",
    "B = np.fromfunction(f, (3, 4, 5), dtype=int)\n",
    "B"
   ]
  },
  {
   "cell_type": "code",
   "execution_count": 173,
   "id": "09d89d3f-e3a7-4938-a59b-27c7aa917761",
   "metadata": {},
   "outputs": [
    {
     "data": {
      "text/plain": [
       "array([[[123, 124],\n",
       "        [133, 134]],\n",
       "\n",
       "       [[223, 224],\n",
       "        [233, 234]]])"
      ]
     },
     "execution_count": 173,
     "metadata": {},
     "output_type": "execute_result"
    }
   ],
   "source": [
    "B[1:, 2:, 3:] // 특정 위치만 지정하는 튜플을 넣어도 됨"
   ]
  },
  {
   "cell_type": "code",
   "execution_count": 178,
   "id": "9a70785d-bfa5-4945-9777-bf3213489900",
   "metadata": {},
   "outputs": [
    {
     "data": {
      "text/plain": [
       "array([10, 11, 12, 13, 14])"
      ]
     },
     "execution_count": 178,
     "metadata": {},
     "output_type": "execute_result"
    }
   ],
   "source": [
    "B[(0, 1)]"
   ]
  },
  {
   "cell_type": "code",
   "execution_count": 70,
   "id": "b27ef7fb-993c-413a-9b1a-97bf18b0c37b",
   "metadata": {},
   "outputs": [
    {
     "data": {
      "text/plain": [
       "array([[200, 201, 202, 203, 204],\n",
       "       [210, 211, 212, 213, 214],\n",
       "       [220, 221, 222, 223, 224],\n",
       "       [230, 231, 232, 233, 234]])"
      ]
     },
     "execution_count": 70,
     "metadata": {},
     "output_type": "execute_result"
    }
   ],
   "source": [
    "B[-1]"
   ]
  },
  {
   "cell_type": "code",
   "execution_count": 71,
   "id": "45d11371-93b4-4756-ba14-c6cf82b3dba8",
   "metadata": {},
   "outputs": [
    {
     "data": {
      "text/plain": [
       "array([ 0, 10, 20, 30])"
      ]
     },
     "execution_count": 71,
     "metadata": {},
     "output_type": "execute_result"
    }
   ],
   "source": [
    "B[0, ..., 0]"
   ]
  },
  {
   "cell_type": "code",
   "execution_count": 72,
   "id": "ece60d58-6e65-42bc-a38b-b7fc62c8dee3",
   "metadata": {},
   "outputs": [
    {
     "data": {
      "text/plain": [
       "(3, 4, 5)"
      ]
     },
     "execution_count": 72,
     "metadata": {},
     "output_type": "execute_result"
    }
   ],
   "source": [
    "B.shape"
   ]
  },
  {
   "cell_type": "code",
   "execution_count": 73,
   "id": "00e862d9-0432-4155-8abf-e01ebb32fd4d",
   "metadata": {},
   "outputs": [
    {
     "data": {
      "text/plain": [
       "array([[  0,  10,  20,  30],\n",
       "       [100, 110, 120, 130],\n",
       "       [200, 210, 220, 230]])"
      ]
     },
     "execution_count": 73,
     "metadata": {},
     "output_type": "execute_result"
    }
   ],
   "source": [
    "B[..., 0]"
   ]
  },
  {
   "cell_type": "code",
   "execution_count": 74,
   "id": "5a93a62f-3914-48a5-b656-4cc0dc651e4f",
   "metadata": {},
   "outputs": [
    {
     "name": "stdout",
     "output_type": "stream",
     "text": [
      "[0 1 2 3 4]\n",
      "[10 11 12 13 14]\n",
      "[20 21 22 23 24]\n",
      "[30 31 32 33 34]\n"
     ]
    }
   ],
   "source": [
    "for row in B[0]: print(row)"
   ]
  },
  {
   "cell_type": "code",
   "execution_count": 75,
   "id": "4eaac9b6-d396-4b47-8f05-febf2ce79e56",
   "metadata": {},
   "outputs": [
    {
     "name": "stdout",
     "output_type": "stream",
     "text": [
      "[0, 1, 2, 3, 4, 10, 11, 12, 13, 14, 20, 21, 22, 23, 24, 30, 31, 32, 33, 34, 100, 101, 102, 103, 104, 110, 111, 112, 113, 114, 120, 121, 122, 123, 124, 130, 131, 132, 133, 134, 200, 201, 202, 203, 204, 210, 211, 212, 213, 214, 220, 221, 222, 223, 224, 230, 231, 232, 233, 234]\n"
     ]
    }
   ],
   "source": [
    "print(list(B.flat))"
   ]
  },
  {
   "cell_type": "markdown",
   "id": "b7ec6eb1-832c-4b6a-9509-464c97bf8bec",
   "metadata": {},
   "source": [
    "#### See also\n",
    "Indexing on ndarrays: https://numpy.org/devdocs/user/basics.indexing.html#basics-indexing  \n",
    "Indexing routines: https://numpy.org/devdocs/reference/arrays.indexing.html#arrays-indexing  \n",
    "newaxis  \n",
    "ndenumerate  \n",
    "indices  "
   ]
  },
  {
   "cell_type": "markdown",
   "id": "2ada4a78-465d-4a6a-b81f-d5b452ecadb2",
   "metadata": {
    "toc-hr-collapsed": true
   },
   "source": [
    "## Shape Manipulation"
   ]
  },
  {
   "cell_type": "markdown",
   "id": "20039fb3-4dc5-4b91-81b3-75bcaf75a028",
   "metadata": {},
   "source": [
    "### Changing the shape of an array"
   ]
  },
  {
   "cell_type": "code",
   "execution_count": 76,
   "id": "f0927d4f-e9c1-4581-9075-bb87ccef8b2a",
   "metadata": {},
   "outputs": [
    {
     "data": {
      "text/plain": [
       "array([[3, 7, 3, 4],\n",
       "       [1, 4, 2, 2],\n",
       "       [7, 2, 4, 9]])"
      ]
     },
     "execution_count": 76,
     "metadata": {},
     "output_type": "execute_result"
    }
   ],
   "source": [
    "A = np.floor(10 * rg.random((3, 4)))\n",
    "A = A.astype(int)\n",
    "A"
   ]
  },
  {
   "cell_type": "code",
   "execution_count": 77,
   "id": "fa346a6f-92a5-4959-a8ff-8f737724947f",
   "metadata": {},
   "outputs": [
    {
     "data": {
      "text/plain": [
       "array([3, 7, 3, 4, 1, 4, 2, 2, 7, 2, 4, 9])"
      ]
     },
     "execution_count": 77,
     "metadata": {},
     "output_type": "execute_result"
    }
   ],
   "source": [
    "A.ravel()"
   ]
  },
  {
   "cell_type": "code",
   "execution_count": 78,
   "id": "e2eeeca4-ee62-4005-ba02-7b7fde4ec482",
   "metadata": {},
   "outputs": [
    {
     "data": {
      "text/plain": [
       "array([[3, 7, 3, 4, 1, 4],\n",
       "       [2, 2, 7, 2, 4, 9]])"
      ]
     },
     "execution_count": 78,
     "metadata": {},
     "output_type": "execute_result"
    }
   ],
   "source": [
    "A.reshape(-1, 6)"
   ]
  },
  {
   "cell_type": "code",
   "execution_count": 79,
   "id": "bcf6748f-878b-4172-a1a4-cb734cabdec1",
   "metadata": {},
   "outputs": [
    {
     "data": {
      "text/plain": [
       "array([[3, 1, 7],\n",
       "       [7, 4, 2],\n",
       "       [3, 2, 4],\n",
       "       [4, 2, 9]])"
      ]
     },
     "execution_count": 79,
     "metadata": {},
     "output_type": "execute_result"
    }
   ],
   "source": [
    "A.T"
   ]
  },
  {
   "cell_type": "code",
   "execution_count": 80,
   "id": "6575e118-7753-4bf9-bd2a-118626162b9e",
   "metadata": {},
   "outputs": [
    {
     "data": {
      "text/plain": [
       "array([[3, 7],\n",
       "       [3, 4],\n",
       "       [1, 4],\n",
       "       [2, 2],\n",
       "       [7, 2],\n",
       "       [4, 9]])"
      ]
     },
     "execution_count": 80,
     "metadata": {},
     "output_type": "execute_result"
    }
   ],
   "source": [
    "A.resize((6, 2))\n",
    "A"
   ]
  },
  {
   "cell_type": "markdown",
   "id": "6b87679d-67cc-49a3-8a16-5493e3d0754e",
   "metadata": {},
   "source": [
    "### Stacking together different arrays"
   ]
  },
  {
   "cell_type": "code",
   "execution_count": 81,
   "id": "15b24b24-ca36-4b4d-ba2a-1bb0895da720",
   "metadata": {},
   "outputs": [
    {
     "data": {
      "text/plain": [
       "array([[9, 7],\n",
       "       [5, 2]])"
      ]
     },
     "execution_count": 81,
     "metadata": {},
     "output_type": "execute_result"
    }
   ],
   "source": [
    "A = np.floor(10 * rg.random((2, 2))).astype(int)\n",
    "A"
   ]
  },
  {
   "cell_type": "code",
   "execution_count": 82,
   "id": "78c2f99c-4629-404c-9a45-0635939c7a74",
   "metadata": {},
   "outputs": [
    {
     "data": {
      "text/plain": [
       "array([[1, 9],\n",
       "       [5, 1]])"
      ]
     },
     "execution_count": 82,
     "metadata": {},
     "output_type": "execute_result"
    }
   ],
   "source": [
    "B = np.floor(10 * rg.random((2, 2))).astype(int)\n",
    "B"
   ]
  },
  {
   "cell_type": "code",
   "execution_count": 83,
   "id": "4ce3b056-cb8f-4e1a-8405-068b68109088",
   "metadata": {},
   "outputs": [
    {
     "data": {
      "text/plain": [
       "array([[9, 7],\n",
       "       [5, 2],\n",
       "       [1, 9],\n",
       "       [5, 1]])"
      ]
     },
     "execution_count": 83,
     "metadata": {},
     "output_type": "execute_result"
    }
   ],
   "source": [
    "np.vstack((A, B))"
   ]
  },
  {
   "cell_type": "code",
   "execution_count": 84,
   "id": "e559ecdc-fd23-4d79-a781-1003918acaa7",
   "metadata": {},
   "outputs": [
    {
     "data": {
      "text/plain": [
       "array([[9, 7, 1, 9],\n",
       "       [5, 2, 5, 1]])"
      ]
     },
     "execution_count": 84,
     "metadata": {},
     "output_type": "execute_result"
    }
   ],
   "source": [
    "np.hstack((A, B))"
   ]
  },
  {
   "cell_type": "code",
   "execution_count": 85,
   "id": "12c9b4f4-26d5-499f-a06d-b7381f8b9fb3",
   "metadata": {},
   "outputs": [
    {
     "data": {
      "text/plain": [
       "True"
      ]
     },
     "execution_count": 85,
     "metadata": {},
     "output_type": "execute_result"
    }
   ],
   "source": [
    "from numpy import newaxis\n",
    "newaxis == None"
   ]
  },
  {
   "cell_type": "code",
   "execution_count": 86,
   "id": "5bd3d08a-0e24-4418-9013-8b544a50108b",
   "metadata": {},
   "outputs": [
    {
     "data": {
      "text/plain": [
       "array([[9, 7, 1, 9],\n",
       "       [5, 2, 5, 1]])"
      ]
     },
     "execution_count": 86,
     "metadata": {},
     "output_type": "execute_result"
    }
   ],
   "source": [
    "np.column_stack((A, B))"
   ]
  },
  {
   "cell_type": "code",
   "execution_count": 87,
   "id": "252c4476-ed82-4da0-a6b8-bec521cae97f",
   "metadata": {},
   "outputs": [
    {
     "data": {
      "text/plain": [
       "array([[0],\n",
       "       [1],\n",
       "       [2],\n",
       "       [3]])"
      ]
     },
     "execution_count": 87,
     "metadata": {},
     "output_type": "execute_result"
    }
   ],
   "source": [
    "C = np.arange(4)\n",
    "C[..., newaxis]"
   ]
  },
  {
   "cell_type": "code",
   "execution_count": 88,
   "id": "4a844c21-1bc0-4154-b78c-d5037ec73100",
   "metadata": {},
   "outputs": [
    {
     "data": {
      "text/plain": [
       "array([10, 11, 12, 13])"
      ]
     },
     "execution_count": 88,
     "metadata": {},
     "output_type": "execute_result"
    }
   ],
   "source": [
    "D = np.arange(4) + 10\n",
    "D"
   ]
  },
  {
   "cell_type": "code",
   "execution_count": 89,
   "id": "69ff36fb-9255-4879-b09f-1c261b88f5ac",
   "metadata": {},
   "outputs": [
    {
     "data": {
      "text/plain": [
       "array([[ 0,  1,  2,  3],\n",
       "       [10, 11, 12, 13]])"
      ]
     },
     "execution_count": 89,
     "metadata": {},
     "output_type": "execute_result"
    }
   ],
   "source": [
    "np.vstack((C, D))"
   ]
  },
  {
   "cell_type": "code",
   "execution_count": 90,
   "id": "ced60141-8b7c-4eae-837a-d2ca103f211d",
   "metadata": {},
   "outputs": [
    {
     "data": {
      "text/plain": [
       "array([ 0,  1,  2,  3, 10, 11, 12, 13])"
      ]
     },
     "execution_count": 90,
     "metadata": {},
     "output_type": "execute_result"
    }
   ],
   "source": [
    "np.hstack((C, D))"
   ]
  },
  {
   "cell_type": "code",
   "execution_count": 91,
   "id": "ad6255b3-698f-48d0-a18d-580e999664f7",
   "metadata": {},
   "outputs": [
    {
     "data": {
      "text/plain": [
       "array([[ 0, 10],\n",
       "       [ 1, 11],\n",
       "       [ 2, 12],\n",
       "       [ 3, 13]])"
      ]
     },
     "execution_count": 91,
     "metadata": {},
     "output_type": "execute_result"
    }
   ],
   "source": [
    "np.column_stack((C, D)) # Stack 1-D arrays as columns into a 2-D array."
   ]
  },
  {
   "cell_type": "code",
   "execution_count": 92,
   "id": "90352d95-41ce-4467-ba95-30ea4619d931",
   "metadata": {},
   "outputs": [
    {
     "data": {
      "text/plain": [
       "array([[ 0, 10],\n",
       "       [ 1, 11],\n",
       "       [ 2, 12],\n",
       "       [ 3, 13]])"
      ]
     },
     "execution_count": 92,
     "metadata": {},
     "output_type": "execute_result"
    }
   ],
   "source": [
    "np.hstack((C[..., newaxis], D[..., newaxis]))"
   ]
  },
  {
   "cell_type": "code",
   "execution_count": 93,
   "id": "466df68d-fc37-490d-b7c4-9d4785d8072b",
   "metadata": {},
   "outputs": [
    {
     "data": {
      "text/plain": [
       "False"
      ]
     },
     "execution_count": 93,
     "metadata": {},
     "output_type": "execute_result"
    }
   ],
   "source": [
    "np.column_stack == np.hstack"
   ]
  },
  {
   "cell_type": "code",
   "execution_count": 94,
   "id": "430c67dc-a5d8-4260-a9e4-30db9d4eb48a",
   "metadata": {},
   "outputs": [
    {
     "data": {
      "text/plain": [
       "True"
      ]
     },
     "execution_count": 94,
     "metadata": {},
     "output_type": "execute_result"
    }
   ],
   "source": [
    "np.row_stack == np.vstack"
   ]
  },
  {
   "cell_type": "code",
   "execution_count": 95,
   "id": "34f4a13f-f05c-489c-a54c-c1ef982c30b8",
   "metadata": {},
   "outputs": [
    {
     "data": {
      "text/plain": [
       "array([[[  0,   1,   2,   3],\n",
       "        [ 10,  11,  12,  13],\n",
       "        [ 20,  21,  22,  23]],\n",
       "\n",
       "       [[100, 101, 102, 103],\n",
       "        [110, 111, 112, 113],\n",
       "        [120, 121, 122, 123]]])"
      ]
     },
     "execution_count": 95,
     "metadata": {},
     "output_type": "execute_result"
    }
   ],
   "source": [
    "A = np.fromfunction(f, (2, 3, 4), dtype=int)\n",
    "A"
   ]
  },
  {
   "cell_type": "code",
   "execution_count": 96,
   "id": "a4caf68a-c28a-4f24-a219-1f8f236b6c5c",
   "metadata": {},
   "outputs": [
    {
     "data": {
      "text/plain": [
       "array([[[100000, 100001, 100002, 100003],\n",
       "        [100010, 100011, 100012, 100013],\n",
       "        [100020, 100021, 100022, 100023]],\n",
       "\n",
       "       [[100100, 100101, 100102, 100103],\n",
       "        [100110, 100111, 100112, 100113],\n",
       "        [100120, 100121, 100122, 100123]],\n",
       "\n",
       "       [[100200, 100201, 100202, 100203],\n",
       "        [100210, 100211, 100212, 100213],\n",
       "        [100220, 100221, 100222, 100223]]])"
      ]
     },
     "execution_count": 96,
     "metadata": {},
     "output_type": "execute_result"
    }
   ],
   "source": [
    "B = np.fromfunction(f, (3, 3, 4), dtype=int) + 100_000\n",
    "B"
   ]
  },
  {
   "cell_type": "code",
   "execution_count": 97,
   "id": "2a487dde-6f3f-498e-b297-10758a50e19b",
   "metadata": {},
   "outputs": [
    {
     "data": {
      "text/plain": [
       "array([[[     0,      1,      2,      3],\n",
       "        [    10,     11,     12,     13],\n",
       "        [    20,     21,     22,     23]],\n",
       "\n",
       "       [[   100,    101,    102,    103],\n",
       "        [   110,    111,    112,    113],\n",
       "        [   120,    121,    122,    123]],\n",
       "\n",
       "       [[100000, 100001, 100002, 100003],\n",
       "        [100010, 100011, 100012, 100013],\n",
       "        [100020, 100021, 100022, 100023]],\n",
       "\n",
       "       [[100100, 100101, 100102, 100103],\n",
       "        [100110, 100111, 100112, 100113],\n",
       "        [100120, 100121, 100122, 100123]],\n",
       "\n",
       "       [[100200, 100201, 100202, 100203],\n",
       "        [100210, 100211, 100212, 100213],\n",
       "        [100220, 100221, 100222, 100223]]])"
      ]
     },
     "execution_count": 97,
     "metadata": {},
     "output_type": "execute_result"
    }
   ],
   "source": [
    "np.vstack((A, B))"
   ]
  },
  {
   "cell_type": "code",
   "execution_count": 98,
   "id": "d30b3a84-8978-4620-95af-427cce631ba6",
   "metadata": {},
   "outputs": [
    {
     "data": {
      "text/plain": [
       "array([[[     0,      1,      2,      3],\n",
       "        [    10,     11,     12,     13],\n",
       "        [    20,     21,     22,     23],\n",
       "        [100000, 100001, 100002, 100003],\n",
       "        [100010, 100011, 100012, 100013]],\n",
       "\n",
       "       [[   100,    101,    102,    103],\n",
       "        [   110,    111,    112,    113],\n",
       "        [   120,    121,    122,    123],\n",
       "        [100100, 100101, 100102, 100103],\n",
       "        [100110, 100111, 100112, 100113]]])"
      ]
     },
     "execution_count": 98,
     "metadata": {},
     "output_type": "execute_result"
    }
   ],
   "source": [
    "np.hstack((A, B[:-1, :-1]))"
   ]
  },
  {
   "cell_type": "markdown",
   "id": "ef2f4150-ff38-43b8-b326-13a6f0267353",
   "metadata": {},
   "source": [
    "#### See also\n",
    "concatenate  \n",
    "c_  \n",
    "r_  "
   ]
  },
  {
   "cell_type": "markdown",
   "id": "e2dce25a-809f-4848-8178-31c852bed1ef",
   "metadata": {},
   "source": [
    "### Splitting one array into several smaller ones"
   ]
  },
  {
   "cell_type": "code",
   "execution_count": 99,
   "id": "9d576101-78e9-4109-aaa4-109ffefa0659",
   "metadata": {},
   "outputs": [
    {
     "data": {
      "text/plain": [
       "array([[6, 7, 6, 9, 0, 5, 4, 0, 6, 8, 5, 2],\n",
       "       [8, 5, 5, 7, 1, 8, 6, 7, 1, 8, 1, 0]])"
      ]
     },
     "execution_count": 99,
     "metadata": {},
     "output_type": "execute_result"
    }
   ],
   "source": [
    "A = np.floor(10 * rg.random((2, 12))).astype(int)\n",
    "A"
   ]
  },
  {
   "cell_type": "code",
   "execution_count": 100,
   "id": "19b96cb3-b389-422a-a7de-5129624546ba",
   "metadata": {},
   "outputs": [
    {
     "data": {
      "text/plain": [
       "[array([[6, 7, 6, 9],\n",
       "        [8, 5, 5, 7]]),\n",
       " array([[0, 5, 4, 0],\n",
       "        [1, 8, 6, 7]]),\n",
       " array([[6, 8, 5, 2],\n",
       "        [1, 8, 1, 0]])]"
      ]
     },
     "execution_count": 100,
     "metadata": {},
     "output_type": "execute_result"
    }
   ],
   "source": [
    "np.hsplit(A, 3)"
   ]
  },
  {
   "cell_type": "code",
   "execution_count": 101,
   "id": "1feb60d9-f7a8-44f5-adcd-d9efebcf1a91",
   "metadata": {},
   "outputs": [
    {
     "name": "stdout",
     "output_type": "stream",
     "text": [
      "array split does not result in an equal division\n"
     ]
    }
   ],
   "source": [
    "try: np.hsplit(A, 5)\n",
    "except ValueError as e: print(e)"
   ]
  },
  {
   "cell_type": "code",
   "execution_count": 102,
   "id": "20b766c4-2c8d-478a-8a38-7315a62c5fd5",
   "metadata": {},
   "outputs": [
    {
     "data": {
      "text/plain": [
       "[array([[6, 7, 6],\n",
       "        [8, 5, 5]]),\n",
       " array([[9, 0],\n",
       "        [7, 1]]),\n",
       " array([], shape=(2, 0), dtype=int32),\n",
       " array([[5, 4, 0, 6, 8],\n",
       "        [8, 6, 7, 1, 8]]),\n",
       " array([[5, 2],\n",
       "        [1, 0]])]"
      ]
     },
     "execution_count": 102,
     "metadata": {},
     "output_type": "execute_result"
    }
   ],
   "source": [
    "np.hsplit(A, (3, 5, 5, 10)) # horizontal: column-wise\n",
    "# if (1-D array): axis=0\n",
    "# else          : axis=1"
   ]
  },
  {
   "cell_type": "code",
   "execution_count": 103,
   "id": "19e7a9f1-1eb5-4634-a676-1cd2e8a1255c",
   "metadata": {},
   "outputs": [
    {
     "data": {
      "text/plain": [
       "[array([[6, 7, 6, 9, 0, 5, 4, 0, 6, 8, 5, 2]]),\n",
       " array([[8, 5, 5, 7, 1, 8, 6, 7, 1, 8, 1, 0]])]"
      ]
     },
     "execution_count": 103,
     "metadata": {},
     "output_type": "execute_result"
    }
   ],
   "source": [
    "np.vsplit(A, 2) # vertical: row-wise"
   ]
  },
  {
   "cell_type": "code",
   "execution_count": 104,
   "id": "eafa49b8-89c1-45c1-bfae-6934a31945f7",
   "metadata": {},
   "outputs": [
    {
     "data": {
      "text/plain": [
       "[array([[6, 7, 6, 9, 0, 5],\n",
       "        [8, 5, 5, 7, 1, 8]]),\n",
       " array([[4, 0, 6, 8, 5, 2],\n",
       "        [6, 7, 1, 8, 1, 0]])]"
      ]
     },
     "execution_count": 104,
     "metadata": {},
     "output_type": "execute_result"
    }
   ],
   "source": [
    "np.array_split(A, 2, axis=1)"
   ]
  },
  {
   "cell_type": "markdown",
   "id": "c8ee3a48-39b3-48c4-950d-4051ed84cff9",
   "metadata": {},
   "source": [
    "## Copies and Views"
   ]
  },
  {
   "cell_type": "markdown",
   "id": "8c2823d2-7387-47d6-9e8e-e249831c49c6",
   "metadata": {},
   "source": [
    "### No Copy at All"
   ]
  },
  {
   "cell_type": "code",
   "execution_count": 133,
   "id": "0c3648c1-edb5-4519-972f-763931b6abe5",
   "metadata": {},
   "outputs": [],
   "source": [
    "A = np.arange(12).reshape((3, 4))"
   ]
  },
  {
   "cell_type": "code",
   "execution_count": 134,
   "id": "a233c2c7-effd-4ef1-80a9-8d68e62640a8",
   "metadata": {},
   "outputs": [
    {
     "data": {
      "text/plain": [
       "True"
      ]
     },
     "execution_count": 134,
     "metadata": {},
     "output_type": "execute_result"
    }
   ],
   "source": [
    "B = A\n",
    "B is A"
   ]
  },
  {
   "cell_type": "code",
   "execution_count": 135,
   "id": "fdea84b9-030d-4574-b08f-8f1f6d0b451c",
   "metadata": {},
   "outputs": [
    {
     "data": {
      "text/plain": [
       "array([[ True,  True,  True,  True],\n",
       "       [ True,  True,  True,  True],\n",
       "       [ True,  True,  True,  True]])"
      ]
     },
     "execution_count": 135,
     "metadata": {},
     "output_type": "execute_result"
    }
   ],
   "source": [
    "B == A"
   ]
  },
  {
   "cell_type": "code",
   "execution_count": 136,
   "id": "be609582-47e1-4160-ae9c-3581217eef06",
   "metadata": {},
   "outputs": [],
   "source": [
    "def f(x): print(id(x))"
   ]
  },
  {
   "cell_type": "code",
   "execution_count": 137,
   "id": "c1b41566-7310-4c52-8b0b-257f56fb5ee4",
   "metadata": {},
   "outputs": [
    {
     "data": {
      "text/plain": [
       "2598880663184"
      ]
     },
     "execution_count": 137,
     "metadata": {},
     "output_type": "execute_result"
    }
   ],
   "source": [
    "id(A)"
   ]
  },
  {
   "cell_type": "code",
   "execution_count": 138,
   "id": "8324b7ef-d434-4d8f-9c27-0ef2946259e3",
   "metadata": {},
   "outputs": [
    {
     "name": "stdout",
     "output_type": "stream",
     "text": [
      "2598880663184\n"
     ]
    }
   ],
   "source": [
    "f(A) # Python passes mutable objects as references, so function calls make no copy."
   ]
  },
  {
   "cell_type": "code",
   "execution_count": 139,
   "id": "aaf93b3b-462e-483b-ae93-ece88ca46eb3",
   "metadata": {},
   "outputs": [
    {
     "data": {
      "text/plain": [
       "False"
      ]
     },
     "execution_count": 139,
     "metadata": {},
     "output_type": "execute_result"
    }
   ],
   "source": [
    "A.flags.owndata"
   ]
  },
  {
   "cell_type": "markdown",
   "id": "b01f5dfe-8f6e-4010-887d-1f6fe0d16455",
   "metadata": {},
   "source": [
    "### View or Shallow Copy"
   ]
  },
  {
   "cell_type": "code",
   "execution_count": 140,
   "id": "7c71a9f5-c993-4b68-a11e-8a11e59ce013",
   "metadata": {},
   "outputs": [
    {
     "data": {
      "text/plain": [
       "array([[ 0,  1,  2,  3],\n",
       "       [ 4,  5,  6,  7],\n",
       "       [ 8,  9, 10, 11]])"
      ]
     },
     "execution_count": 140,
     "metadata": {},
     "output_type": "execute_result"
    }
   ],
   "source": [
    "C = A.view()\n",
    "C"
   ]
  },
  {
   "cell_type": "code",
   "execution_count": 141,
   "id": "d3afaa5b-36ce-4e72-bfcb-6d1c41831790",
   "metadata": {},
   "outputs": [
    {
     "data": {
      "text/plain": [
       "False"
      ]
     },
     "execution_count": 141,
     "metadata": {},
     "output_type": "execute_result"
    }
   ],
   "source": [
    "C is A"
   ]
  },
  {
   "cell_type": "code",
   "execution_count": 142,
   "id": "8da043c8-4990-477c-a44c-e399b7017e18",
   "metadata": {},
   "outputs": [
    {
     "data": {
      "text/plain": [
       "numpy.ndarray"
      ]
     },
     "execution_count": 142,
     "metadata": {},
     "output_type": "execute_result"
    }
   ],
   "source": [
    "type(C)"
   ]
  },
  {
   "cell_type": "code",
   "execution_count": 143,
   "id": "47986005-d9ba-4866-ad0e-d8a97ed2f14b",
   "metadata": {},
   "outputs": [
    {
     "data": {
      "text/plain": [
       "2598848093712"
      ]
     },
     "execution_count": 143,
     "metadata": {},
     "output_type": "execute_result"
    }
   ],
   "source": [
    "id(C)"
   ]
  },
  {
   "cell_type": "code",
   "execution_count": 186,
   "id": "c35ef343-0fb2-4a65-9859-9e47daf1e456",
   "metadata": {},
   "outputs": [
    {
     "data": {
      "text/plain": [
       "'1.21.5'"
      ]
     },
     "execution_count": 186,
     "metadata": {},
     "output_type": "execute_result"
    }
   ],
   "source": [
    "np.__version__"
   ]
  },
  {
   "cell_type": "code",
   "execution_count": 144,
   "id": "8e8564fa-21a2-431c-866c-c0d3829af614",
   "metadata": {},
   "outputs": [
    {
     "data": {
      "text/plain": [
       "False"
      ]
     },
     "execution_count": 144,
     "metadata": {},
     "output_type": "execute_result"
    }
   ],
   "source": [
    "C.base is A # True is printed in version 1.23"
   ]
  },
  {
   "cell_type": "code",
   "execution_count": 145,
   "id": "05e5434e-4a40-4a95-b08f-3573af7807c8",
   "metadata": {},
   "outputs": [
    {
     "data": {
      "text/plain": [
       "False"
      ]
     },
     "execution_count": 145,
     "metadata": {},
     "output_type": "execute_result"
    }
   ],
   "source": [
    "C.flags.owndata"
   ]
  },
  {
   "cell_type": "code",
   "execution_count": 146,
   "id": "521b4581-8e65-4266-b58b-fbf7435b7244",
   "metadata": {},
   "outputs": [],
   "source": [
    "C = C.reshape((2,6))"
   ]
  },
  {
   "cell_type": "code",
   "execution_count": 147,
   "id": "8cb6ff77-5c3d-4091-81c0-d81b6c576861",
   "metadata": {},
   "outputs": [
    {
     "data": {
      "text/plain": [
       "(3, 4)"
      ]
     },
     "execution_count": 147,
     "metadata": {},
     "output_type": "execute_result"
    }
   ],
   "source": [
    "A.shape"
   ]
  },
  {
   "cell_type": "code",
   "execution_count": 148,
   "id": "0da64cab-cca7-407e-b484-d926f126b848",
   "metadata": {},
   "outputs": [
    {
     "data": {
      "text/plain": [
       "array([[  0,   1,   2,   3],\n",
       "       [999,   5,   6,   7],\n",
       "       [  8,   9,  10,  11]])"
      ]
     },
     "execution_count": 148,
     "metadata": {},
     "output_type": "execute_result"
    }
   ],
   "source": [
    "C[0, 4] = 999\n",
    "A"
   ]
  },
  {
   "cell_type": "code",
   "execution_count": 150,
   "id": "b2612a76-6d6a-487d-b24b-4cc66c8cf91e",
   "metadata": {},
   "outputs": [
    {
     "data": {
      "text/plain": [
       "array([[  0,  10,  10,   3],\n",
       "       [999,  10,  10,   7],\n",
       "       [  8,  10,  10,  11]])"
      ]
     },
     "execution_count": 150,
     "metadata": {},
     "output_type": "execute_result"
    }
   ],
   "source": [
    "S = A[:, 1:3]\n",
    "S[:] = 10 # s[:] is a view of s. Note the difference between s = 10 and s[:] = 10\n",
    "A"
   ]
  },
  {
   "cell_type": "markdown",
   "id": "c558a000-c857-4fe5-b9d9-dbf4c97a4de4",
   "metadata": {},
   "source": [
    "### Deep Copy"
   ]
  },
  {
   "cell_type": "code",
   "execution_count": 152,
   "id": "96c1b76a-b5d0-4595-bea9-a16db3d527ff",
   "metadata": {},
   "outputs": [
    {
     "data": {
      "text/plain": [
       "False"
      ]
     },
     "execution_count": 152,
     "metadata": {},
     "output_type": "execute_result"
    }
   ],
   "source": [
    "D = A.copy()\n",
    "D is A"
   ]
  },
  {
   "cell_type": "code",
   "execution_count": 153,
   "id": "737c93f2-e399-4283-a0a3-65f70f3904af",
   "metadata": {},
   "outputs": [
    {
     "data": {
      "text/plain": [
       "False"
      ]
     },
     "execution_count": 153,
     "metadata": {},
     "output_type": "execute_result"
    }
   ],
   "source": [
    "D.base is A"
   ]
  },
  {
   "cell_type": "code",
   "execution_count": 154,
   "id": "395f6da7-199c-4088-9417-64802daac9c0",
   "metadata": {},
   "outputs": [
    {
     "data": {
      "text/plain": [
       "array([[  0,  10,  10,   3],\n",
       "       [999,  10,  10,   7],\n",
       "       [  8,  10,  10,  11]])"
      ]
     },
     "execution_count": 154,
     "metadata": {},
     "output_type": "execute_result"
    }
   ],
   "source": [
    "D[0, 0] = 999_999\n",
    "A"
   ]
  },
  {
   "cell_type": "code",
   "execution_count": 166,
   "id": "377a7b3f-1f8b-4956-bc4f-2bcdd4f4b632",
   "metadata": {},
   "outputs": [],
   "source": [
    "A = np.arange(int(1e8))"
   ]
  },
  {
   "cell_type": "code",
   "execution_count": 167,
   "id": "b7bf66b0-ed5a-4bd3-bb12-fb607ad60cae",
   "metadata": {},
   "outputs": [],
   "source": [
    "B = A[:10].copy()\n",
    "C = A[:10]\n",
    "del A"
   ]
  },
  {
   "cell_type": "code",
   "execution_count": 168,
   "id": "a53bb396-1e8a-4a09-8c9f-bd29402b59a7",
   "metadata": {},
   "outputs": [
    {
     "data": {
      "text/plain": [
       "array([0, 1, 2, 3, 4, 5, 6, 7, 8, 9])"
      ]
     },
     "execution_count": 168,
     "metadata": {},
     "output_type": "execute_result"
    }
   ],
   "source": [
    "B"
   ]
  },
  {
   "cell_type": "code",
   "execution_count": 169,
   "id": "abf44dc9-ec52-4f4c-8cb6-4f14b6e25897",
   "metadata": {},
   "outputs": [
    {
     "data": {
      "text/plain": [
       "array([0, 1, 2, 3, 4, 5, 6, 7, 8, 9])"
      ]
     },
     "execution_count": 169,
     "metadata": {},
     "output_type": "execute_result"
    }
   ],
   "source": [
    "C"
   ]
  },
  {
   "cell_type": "markdown",
   "id": "026c479c-dc2c-4d32-840b-d105a04d86cb",
   "metadata": {},
   "source": [
    "### Functions and Methods Overview"
   ]
  },
  {
   "cell_type": "markdown",
   "id": "b77355c3-a7f2-40b1-a370-507af37ee049",
   "metadata": {},
   "source": [
    "#### Array Creation\n",
    "arange, array, copy, empty, empty_like, eye, fromfile, fromfunction, identity, linspace, logspace, mgrid, ogrid, ones, ones_like, r_, zeros, zeros_like\n",
    "#### Conversions\n",
    "ndarray.astype, atleast_1d, atleast_2d, atleast_3d, mat\n",
    "#### Manipulations\n",
    "array_split, column_stack, concatenate, diagonal, dsplit, dstack, hsplit, hstack, ndarray.item, newaxis, ravel, repeat, reshape, resize, squeeze, swapaxes, take, transpose, vsplit, vstack\n",
    "#### Questions\n",
    "all, any, nonzero, where\n",
    "#### Ordering\n",
    "argmax, argmin, argsort, max, min, ptp, searchsorted, sort\n",
    "#### Operations\n",
    "choose, compress, cumprod, cumsum, inner, ndarray.fill, imag, prod, put, putmask, real, sum\n",
    "#### Basic Statistics\n",
    "cov, mean, std, var\n",
    "#### Basic Linear Algebra\n",
    "cross, dot, outer, linalg.svd, vdot\n",
    "#### Additional\n",
    "unravel_index"
   ]
  },
  {
   "cell_type": "markdown",
   "id": "94f0b265-c5ca-4bf9-92c1-1d8f305c8a42",
   "metadata": {},
   "source": [
    "## Less Basic"
   ]
  },
  {
   "cell_type": "markdown",
   "id": "09667750-aaf9-4a43-bfc0-641e81bd9e5a",
   "metadata": {},
   "source": [
    "### Broadcasting rules"
   ]
  },
  {
   "cell_type": "code",
   "execution_count": null,
   "id": "e4ddb101-0ec0-499f-8556-9740e6719b6e",
   "metadata": {},
   "outputs": [],
   "source": [
    "https://numpy.org/devdocs/user/basics.broadcasting.html#basics-broadcasting"
   ]
  },
  {
   "cell_type": "markdown",
   "id": "5b7ec822-efb7-44aa-9b24-b6a5d2fb1259",
   "metadata": {},
   "source": [
    "# Routines"
   ]
  },
  {
   "cell_type": "markdown",
   "id": "7324de6b-0975-4cbb-988a-de1e2866cc9a",
   "metadata": {},
   "source": [
    "Refer the website: https://numpy.org/devdocs/reference/routines.html#routines"
   ]
  }
 ],
 "metadata": {
  "kernelspec": {
   "display_name": "Python 3",
   "language": "python",
   "name": "python3"
  },
  "language_info": {
   "codemirror_mode": {
    "name": "ipython",
    "version": 3
   },
   "file_extension": ".py",
   "mimetype": "text/x-python",
   "name": "python",
   "nbconvert_exporter": "python",
   "pygments_lexer": "ipython3",
   "version": "3.9.12"
  }
 },
 "nbformat": 4,
 "nbformat_minor": 5
}
